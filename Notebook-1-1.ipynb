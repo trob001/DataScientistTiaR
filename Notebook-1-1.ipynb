{
    "metadata": {
        "kernelspec": {
            "name": "SQL",
            "display_name": "SQL",
            "language": "sql"
        },
        "language_info": {
            "name": "sql",
            "version": ""
        }
    },
    "nbformat_minor": 2,
    "nbformat": 4,
    "cells": [
        {
            "cell_type": "markdown",
            "source": [
                "# **<u>Chronic Disease Healthcare Dataset</u>**\n",
                "\n",
                "[https://www.kaggle.com/datasets/prasad22/healthcare-dataset](https://www.kaggle.com/datasets/prasad22/healthcare-dataset)\n",
                "\n",
                "This dataset can be utilized for a wide range of purposes, including:\n",
                "\n",
                "- Developing and testing healthcare predictive models.\n",
                "- Practicing data cleaning, transformation, and analysis techniques.\n",
                "- Creating data visualizations to gain insights into healthcare trends.\n",
                "- Learning and teaching data science and machine learning concepts in a healthcare context."
            ],
            "metadata": {
                "language": "sql",
                "azdata_cell_guid": "aea18281-df3c-4ea1-8970-fc073d03a9a4"
            },
            "attachments": {}
        },
        {
            "cell_type": "code",
            "source": [
                "Select AVG(DATEDIFF(day, Date_of_admission, discharge_date)) \n",
                "From dbo.healthcare_dataset\n",
                "Where Medical_Condition = 'Cancer' AND \n",
                "DATEPART(year, Discharge_Date) = 2023 \n",
                "Group by DATEPART(Month, Discharge_Date) \n",
                "Order by DATEPART(Month, Discharge_Date);"
            ],
            "metadata": {
                "azdata_cell_guid": "145480f7-eae9-44d8-81f4-59aea8a80cb5",
                "language": "sql",
                "tags": []
            },
            "outputs": [
                {
                    "output_type": "display_data",
                    "data": {
                        "text/html": "(11 rows affected)"
                    },
                    "metadata": {}
                },
                {
                    "output_type": "display_data",
                    "data": {
                        "text/html": "Total execution time: 00:00:00.031"
                    },
                    "metadata": {}
                },
                {
                    "output_type": "execute_result",
                    "execution_count": 63,
                    "data": {
                        "application/vnd.dataresource+json": {
                            "schema": {
                                "fields": [
                                    {
                                        "name": "AVG_LOS"
                                    }
                                ]
                            },
                            "data": [
                                {
                                    "AVG_LOS": "13"
                                },
                                {
                                    "AVG_LOS": "13"
                                },
                                {
                                    "AVG_LOS": "17"
                                },
                                {
                                    "AVG_LOS": "18"
                                },
                                {
                                    "AVG_LOS": "13"
                                },
                                {
                                    "AVG_LOS": "17"
                                },
                                {
                                    "AVG_LOS": "16"
                                },
                                {
                                    "AVG_LOS": "15"
                                },
                                {
                                    "AVG_LOS": "17"
                                },
                                {
                                    "AVG_LOS": "13"
                                },
                                {
                                    "AVG_LOS": "20"
                                }
                            ]
                        },
                        "text/html": "<table><tr><th>AVG_LOS</th></tr><tr><td>13</td></tr><tr><td>13</td></tr><tr><td>17</td></tr><tr><td>18</td></tr><tr><td>13</td></tr><tr><td>17</td></tr><tr><td>16</td></tr><tr><td>15</td></tr><tr><td>17</td></tr><tr><td>13</td></tr><tr><td>20</td></tr></table>"
                    },
                    "metadata": {
                        "azdata_chartOptions": {
                            "type": "bar",
                            "dataDirection": "horizontal",
                            "columnsAsLabels": true,
                            "labelFirstColumn": false,
                            "legendPosition": "none",
                            "yAxisLabel": "Average Length of Stay (Days)",
                            "xAxisLabel": "Months"
                        }
                    }
                }
            ],
            "execution_count": 63
        },
        {
            "cell_type": "markdown",
            "source": [
                "# **Average length of hospital stay for patients with cancer in the year 2023.**"
            ],
            "metadata": {
                "language": "",
                "azdata_cell_guid": "9d49160d-2fb1-4b43-88a6-367cc1d993e2"
            },
            "attachments": {}
        },
        {
            "cell_type": "code",
            "source": [
                "Select age\n",
                "From healthcare_dataset\n",
                "Where age <= 25 \n",
                "AND gender = 'Male'\n",
                "AND Medical_Condition = 'Cancer'\n",
                "Order By age; "
            ],
            "metadata": {
                "azdata_cell_guid": "660014c3-7eec-488a-8cd7-5bc30edee2cd",
                "language": "sql",
                "tags": []
            },
            "outputs": [
                {
                    "output_type": "display_data",
                    "data": {
                        "text/html": "(101 rows affected)"
                    },
                    "metadata": {}
                },
                {
                    "output_type": "display_data",
                    "data": {
                        "text/html": "Total execution time: 00:00:00.012"
                    },
                    "metadata": {}
                },
                {
                    "output_type": "execute_result",
                    "execution_count": 64,
                    "data": {
                        "application/vnd.dataresource+json": {
                            "schema": {
                                "fields": [
                                    {
                                        "name": "age"
                                    }
                                ]
                            },
                            "data": [
                                {
                                    "age": "18"
                                },
                                {
                                    "age": "18"
                                },
                                {
                                    "age": "18"
                                },
                                {
                                    "age": "18"
                                },
                                {
                                    "age": "18"
                                },
                                {
                                    "age": "18"
                                },
                                {
                                    "age": "18"
                                },
                                {
                                    "age": "18"
                                },
                                {
                                    "age": "18"
                                },
                                {
                                    "age": "18"
                                },
                                {
                                    "age": "18"
                                },
                                {
                                    "age": "18"
                                },
                                {
                                    "age": "18"
                                },
                                {
                                    "age": "18"
                                },
                                {
                                    "age": "19"
                                },
                                {
                                    "age": "19"
                                },
                                {
                                    "age": "19"
                                },
                                {
                                    "age": "19"
                                },
                                {
                                    "age": "19"
                                },
                                {
                                    "age": "19"
                                },
                                {
                                    "age": "19"
                                },
                                {
                                    "age": "19"
                                },
                                {
                                    "age": "19"
                                },
                                {
                                    "age": "19"
                                },
                                {
                                    "age": "20"
                                },
                                {
                                    "age": "20"
                                },
                                {
                                    "age": "20"
                                },
                                {
                                    "age": "20"
                                },
                                {
                                    "age": "20"
                                },
                                {
                                    "age": "20"
                                },
                                {
                                    "age": "20"
                                },
                                {
                                    "age": "20"
                                },
                                {
                                    "age": "20"
                                },
                                {
                                    "age": "20"
                                },
                                {
                                    "age": "20"
                                },
                                {
                                    "age": "20"
                                },
                                {
                                    "age": "21"
                                },
                                {
                                    "age": "21"
                                },
                                {
                                    "age": "21"
                                },
                                {
                                    "age": "21"
                                },
                                {
                                    "age": "21"
                                },
                                {
                                    "age": "21"
                                },
                                {
                                    "age": "21"
                                },
                                {
                                    "age": "21"
                                },
                                {
                                    "age": "21"
                                },
                                {
                                    "age": "21"
                                },
                                {
                                    "age": "21"
                                },
                                {
                                    "age": "21"
                                },
                                {
                                    "age": "21"
                                },
                                {
                                    "age": "21"
                                },
                                {
                                    "age": "22"
                                },
                                {
                                    "age": "22"
                                },
                                {
                                    "age": "22"
                                },
                                {
                                    "age": "22"
                                },
                                {
                                    "age": "22"
                                },
                                {
                                    "age": "22"
                                },
                                {
                                    "age": "22"
                                },
                                {
                                    "age": "22"
                                },
                                {
                                    "age": "23"
                                },
                                {
                                    "age": "23"
                                },
                                {
                                    "age": "23"
                                },
                                {
                                    "age": "23"
                                },
                                {
                                    "age": "23"
                                },
                                {
                                    "age": "23"
                                },
                                {
                                    "age": "23"
                                },
                                {
                                    "age": "23"
                                },
                                {
                                    "age": "23"
                                },
                                {
                                    "age": "23"
                                },
                                {
                                    "age": "23"
                                },
                                {
                                    "age": "23"
                                },
                                {
                                    "age": "23"
                                },
                                {
                                    "age": "23"
                                },
                                {
                                    "age": "23"
                                },
                                {
                                    "age": "23"
                                },
                                {
                                    "age": "23"
                                },
                                {
                                    "age": "23"
                                },
                                {
                                    "age": "24"
                                },
                                {
                                    "age": "24"
                                },
                                {
                                    "age": "24"
                                },
                                {
                                    "age": "24"
                                },
                                {
                                    "age": "24"
                                },
                                {
                                    "age": "24"
                                },
                                {
                                    "age": "24"
                                },
                                {
                                    "age": "24"
                                },
                                {
                                    "age": "24"
                                },
                                {
                                    "age": "24"
                                },
                                {
                                    "age": "24"
                                },
                                {
                                    "age": "24"
                                },
                                {
                                    "age": "24"
                                },
                                {
                                    "age": "25"
                                },
                                {
                                    "age": "25"
                                },
                                {
                                    "age": "25"
                                },
                                {
                                    "age": "25"
                                },
                                {
                                    "age": "25"
                                },
                                {
                                    "age": "25"
                                },
                                {
                                    "age": "25"
                                },
                                {
                                    "age": "25"
                                },
                                {
                                    "age": "25"
                                },
                                {
                                    "age": "25"
                                },
                                {
                                    "age": "25"
                                },
                                {
                                    "age": "25"
                                }
                            ]
                        },
                        "text/html": "<table><tr><th>age</th></tr><tr><td>18</td></tr><tr><td>18</td></tr><tr><td>18</td></tr><tr><td>18</td></tr><tr><td>18</td></tr><tr><td>18</td></tr><tr><td>18</td></tr><tr><td>18</td></tr><tr><td>18</td></tr><tr><td>18</td></tr><tr><td>18</td></tr><tr><td>18</td></tr><tr><td>18</td></tr><tr><td>18</td></tr><tr><td>19</td></tr><tr><td>19</td></tr><tr><td>19</td></tr><tr><td>19</td></tr><tr><td>19</td></tr><tr><td>19</td></tr><tr><td>19</td></tr><tr><td>19</td></tr><tr><td>19</td></tr><tr><td>19</td></tr><tr><td>20</td></tr><tr><td>20</td></tr><tr><td>20</td></tr><tr><td>20</td></tr><tr><td>20</td></tr><tr><td>20</td></tr><tr><td>20</td></tr><tr><td>20</td></tr><tr><td>20</td></tr><tr><td>20</td></tr><tr><td>20</td></tr><tr><td>20</td></tr><tr><td>21</td></tr><tr><td>21</td></tr><tr><td>21</td></tr><tr><td>21</td></tr><tr><td>21</td></tr><tr><td>21</td></tr><tr><td>21</td></tr><tr><td>21</td></tr><tr><td>21</td></tr><tr><td>21</td></tr><tr><td>21</td></tr><tr><td>21</td></tr><tr><td>21</td></tr><tr><td>21</td></tr><tr><td>22</td></tr><tr><td>22</td></tr><tr><td>22</td></tr><tr><td>22</td></tr><tr><td>22</td></tr><tr><td>22</td></tr><tr><td>22</td></tr><tr><td>22</td></tr><tr><td>23</td></tr><tr><td>23</td></tr><tr><td>23</td></tr><tr><td>23</td></tr><tr><td>23</td></tr><tr><td>23</td></tr><tr><td>23</td></tr><tr><td>23</td></tr><tr><td>23</td></tr><tr><td>23</td></tr><tr><td>23</td></tr><tr><td>23</td></tr><tr><td>23</td></tr><tr><td>23</td></tr><tr><td>23</td></tr><tr><td>23</td></tr><tr><td>23</td></tr><tr><td>23</td></tr><tr><td>24</td></tr><tr><td>24</td></tr><tr><td>24</td></tr><tr><td>24</td></tr><tr><td>24</td></tr><tr><td>24</td></tr><tr><td>24</td></tr><tr><td>24</td></tr><tr><td>24</td></tr><tr><td>24</td></tr><tr><td>24</td></tr><tr><td>24</td></tr><tr><td>24</td></tr><tr><td>25</td></tr><tr><td>25</td></tr><tr><td>25</td></tr><tr><td>25</td></tr><tr><td>25</td></tr><tr><td>25</td></tr><tr><td>25</td></tr><tr><td>25</td></tr><tr><td>25</td></tr><tr><td>25</td></tr><tr><td>25</td></tr><tr><td>25</td></tr></table>"
                    },
                    "metadata": {
                        "azdata_chartOptions": {
                            "type": "bar",
                            "dataDirection": "horizontal",
                            "columnsAsLabels": true,
                            "labelFirstColumn": false,
                            "legendPosition": "none",
                            "yAxisLabel": "Age",
                            "xAxisLabel": "Males with Cancer"
                        }
                    }
                }
            ],
            "execution_count": 64
        },
        {
            "cell_type": "markdown",
            "source": [
                "# **Males with Cancer under the age of 25.**"
            ],
            "metadata": {
                "language": "sql",
                "azdata_cell_guid": "53fab7f6-46e1-4b73-bf76-aee2e517ec0f"
            },
            "attachments": {}
        },
        {
            "cell_type": "code",
            "source": [
                "Select Max(Billing_Amount) MaxBill, \n",
                "Min(Billing_Amount) MinBill\n",
                "From healthcare_dataset\n",
                "Where Medical_Condition = 'Cancer';"
            ],
            "metadata": {
                "azdata_cell_guid": "ba006404-d4f7-4155-b1a2-02448b2e9e45",
                "language": "sql",
                "tags": []
            },
            "outputs": [
                {
                    "output_type": "display_data",
                    "data": {
                        "text/html": "(1 row affected)"
                    },
                    "metadata": {}
                },
                {
                    "output_type": "display_data",
                    "data": {
                        "text/html": "Total execution time: 00:00:00.014"
                    },
                    "metadata": {}
                },
                {
                    "output_type": "execute_result",
                    "execution_count": 65,
                    "data": {
                        "application/vnd.dataresource+json": {
                            "schema": {
                                "fields": [
                                    {
                                        "name": "MaxBill"
                                    },
                                    {
                                        "name": "MinBill"
                                    }
                                ]
                            },
                            "data": [
                                {
                                    "MaxBill": "49994.98474012479",
                                    "MinBill": "1020.337790368703"
                                }
                            ]
                        },
                        "text/html": "<table><tr><th>MaxBill</th><th>MinBill</th></tr><tr><td>49994.98474012479</td><td>1020.337790368703</td></tr></table>"
                    },
                    "metadata": {
                        "azdata_chartOptions": {
                            "type": "horizontalBar",
                            "dataDirection": "horizontal",
                            "columnsAsLabels": true,
                            "labelFirstColumn": false,
                            "legendPosition": "none",
                            "xAxisLabel": "Billing Amount"
                        }
                    }
                }
            ],
            "execution_count": 65
        },
        {
            "cell_type": "markdown",
            "source": [
                "# **Maximum and Minimum Billing Amounts for patients with cancer.**"
            ],
            "metadata": {
                "language": "sql",
                "azdata_cell_guid": "931b845a-f12c-48a3-93c2-78aa4c69fcfd"
            },
            "attachments": {}
        },
        {
            "cell_type": "code",
            "source": [
                "Select Hospital, Billing_Amount as Bill\n",
                "From healthcare_dataset\n",
                "Where Medical_Condition = 'Cancer'\n",
                "AND Billing_Amount >= 45000 \n",
                "Order by Billing_Amount DESC;"
            ],
            "metadata": {
                "azdata_cell_guid": "9716a56f-eeee-4575-ad81-6a559b287a4d",
                "language": "sql",
                "tags": []
            },
            "outputs": [
                {
                    "output_type": "display_data",
                    "data": {
                        "text/html": "(184 rows affected)"
                    },
                    "metadata": {}
                },
                {
                    "output_type": "display_data",
                    "data": {
                        "text/html": "Total execution time: 00:00:00.008"
                    },
                    "metadata": {}
                },
                {
                    "output_type": "execute_result",
                    "execution_count": 66,
                    "data": {
                        "application/vnd.dataresource+json": {
                            "schema": {
                                "fields": [
                                    {
                                        "name": "Hospital"
                                    },
                                    {
                                        "name": "Bill"
                                    }
                                ]
                            },
                            "data": [
                                {
                                    "Hospital": "Ellison-Johnson",
                                    "Bill": "49994.98474012479"
                                },
                                {
                                    "Hospital": "Ford, Gibson and Parker",
                                    "Bill": "49957.99759953944"
                                },
                                {
                                    "Hospital": "Jackson Group",
                                    "Bill": "49867.725384729696"
                                },
                                {
                                    "Hospital": "Andrews-Brown",
                                    "Bill": "49865.84795118959"
                                },
                                {
                                    "Hospital": "Faulkner, Munoz and Friedman",
                                    "Bill": "49848.9617670132"
                                },
                                {
                                    "Hospital": "Fry-Morrow",
                                    "Bill": "49810.97484127671"
                                },
                                {
                                    "Hospital": "Austin-Black",
                                    "Bill": "49793.61481604037"
                                },
                                {
                                    "Hospital": "Christensen-Williams",
                                    "Bill": "49746.207799581374"
                                },
                                {
                                    "Hospital": "Gallegos and Sons",
                                    "Bill": "49677.361740915374"
                                },
                                {
                                    "Hospital": "Montgomery and Sons",
                                    "Bill": "49675.48297875196"
                                },
                                {
                                    "Hospital": "Kramer, Harrison and Wallace",
                                    "Bill": "49667.36702889071"
                                },
                                {
                                    "Hospital": "Ayala-Gibbs",
                                    "Bill": "49608.86185798793"
                                },
                                {
                                    "Hospital": "Liu-Hunt",
                                    "Bill": "49565.02133019294"
                                },
                                {
                                    "Hospital": "Johnston-Lee",
                                    "Bill": "49554.98005095694"
                                },
                                {
                                    "Hospital": "Wiley-Schwartz",
                                    "Bill": "49541.88121075537"
                                },
                                {
                                    "Hospital": "Watts-Hunt",
                                    "Bill": "49541.26218720334"
                                },
                                {
                                    "Hospital": "Hall LLC",
                                    "Bill": "49505.17942694056"
                                },
                                {
                                    "Hospital": "Snow Group",
                                    "Bill": "49487.502458254734"
                                },
                                {
                                    "Hospital": "Lang-Patel",
                                    "Bill": "49424.27606338589"
                                },
                                {
                                    "Hospital": "Henry, Haas and Cook",
                                    "Bill": "49422.381646954076"
                                },
                                {
                                    "Hospital": "Taylor, Johnson and Vaughan",
                                    "Bill": "49405.83723633517"
                                },
                                {
                                    "Hospital": "Gonzales-Chaney",
                                    "Bill": "49387.20965576066"
                                },
                                {
                                    "Hospital": "Knight, Mitchell and Perez",
                                    "Bill": "49354.88765759358"
                                },
                                {
                                    "Hospital": "Bowman PLC",
                                    "Bill": "49347.616196905896"
                                },
                                {
                                    "Hospital": "Fitzpatrick-Powell",
                                    "Bill": "49346.304295525275"
                                },
                                {
                                    "Hospital": "Rhodes Group",
                                    "Bill": "49332.83843060683"
                                },
                                {
                                    "Hospital": "Hensley Inc",
                                    "Bill": "49283.835528546144"
                                },
                                {
                                    "Hospital": "Monroe, Allen and Welch",
                                    "Bill": "49243.31736311424"
                                },
                                {
                                    "Hospital": "Robles-Thompson",
                                    "Bill": "49223.7153460014"
                                },
                                {
                                    "Hospital": "Davidson, Harris and Long",
                                    "Bill": "49208.375751772895"
                                },
                                {
                                    "Hospital": "Burke, Hammond and Henderson",
                                    "Bill": "49191.40004277582"
                                },
                                {
                                    "Hospital": "Russell Inc",
                                    "Bill": "49180.3840908525"
                                },
                                {
                                    "Hospital": "Peterson, Jones and Clark",
                                    "Bill": "49155.40764559618"
                                },
                                {
                                    "Hospital": "Rodriguez-Jordan",
                                    "Bill": "49114.82027460238"
                                },
                                {
                                    "Hospital": "Gutierrez, Hudson and Hernandez",
                                    "Bill": "49100.458363573794"
                                },
                                {
                                    "Hospital": "Thomas Group",
                                    "Bill": "49053.356073379015"
                                },
                                {
                                    "Hospital": "Smith-Shelton",
                                    "Bill": "49028.35142291023"
                                },
                                {
                                    "Hospital": "Contreras-Taylor",
                                    "Bill": "49014.336975744256"
                                },
                                {
                                    "Hospital": "Romero, Sloan and Rodriguez",
                                    "Bill": "49006.69594076405"
                                },
                                {
                                    "Hospital": "Bryant Group",
                                    "Bill": "48754.92114615348"
                                },
                                {
                                    "Hospital": "Hatfield-Wilson",
                                    "Bill": "48724.403799461856"
                                },
                                {
                                    "Hospital": "Mayo, Yoder and Fisher",
                                    "Bill": "48710.62955931463"
                                },
                                {
                                    "Hospital": "Cochran-King",
                                    "Bill": "48662.636196953674"
                                },
                                {
                                    "Hospital": "Wilson, Pugh and Johnson",
                                    "Bill": "48619.51732595202"
                                },
                                {
                                    "Hospital": "Bailey-Powers",
                                    "Bill": "48599.59229382341"
                                },
                                {
                                    "Hospital": "Ruiz, Baker and Vargas",
                                    "Bill": "48554.759675624235"
                                },
                                {
                                    "Hospital": "Riggs and Sons",
                                    "Bill": "48530.124205145345"
                                },
                                {
                                    "Hospital": "Gonzalez and Sons",
                                    "Bill": "48521.18885872096"
                                },
                                {
                                    "Hospital": "Anderson, Moore and Miller",
                                    "Bill": "48466.94634194745"
                                },
                                {
                                    "Hospital": "Reilly Ltd",
                                    "Bill": "48466.61597695912"
                                },
                                {
                                    "Hospital": "Brooks-Cline",
                                    "Bill": "48441.32562710593"
                                },
                                {
                                    "Hospital": "Butler Ltd",
                                    "Bill": "48386.39238101044"
                                },
                                {
                                    "Hospital": "Macias, Long and Hodge",
                                    "Bill": "48363.46949168556"
                                },
                                {
                                    "Hospital": "Graham Ltd",
                                    "Bill": "48335.96428065138"
                                },
                                {
                                    "Hospital": "Sandoval PLC",
                                    "Bill": "48301.590278803895"
                                },
                                {
                                    "Hospital": "Wallace LLC",
                                    "Bill": "48296.69098795672"
                                },
                                {
                                    "Hospital": "Waters-Good",
                                    "Bill": "48259.75280582012"
                                },
                                {
                                    "Hospital": "Chambers Inc",
                                    "Bill": "48244.6217501954"
                                },
                                {
                                    "Hospital": "Gordon-Frederick",
                                    "Bill": "48207.547066038474"
                                },
                                {
                                    "Hospital": "Robertson-Smith",
                                    "Bill": "48155.10651485851"
                                },
                                {
                                    "Hospital": "Nunez, Burton and Mccullough",
                                    "Bill": "48112.9633141049"
                                },
                                {
                                    "Hospital": "Martinez, Lynn and White",
                                    "Bill": "48056.68034120919"
                                },
                                {
                                    "Hospital": "Kane-Moore",
                                    "Bill": "48030.108538739965"
                                },
                                {
                                    "Hospital": "Morales-Williams",
                                    "Bill": "48027.55601450049"
                                },
                                {
                                    "Hospital": "Welch, Sanders and Jensen",
                                    "Bill": "48006.407283263165"
                                },
                                {
                                    "Hospital": "Bradley Inc",
                                    "Bill": "47986.36698510451"
                                },
                                {
                                    "Hospital": "Rogers PLC",
                                    "Bill": "47947.42754337616"
                                },
                                {
                                    "Hospital": "Callahan Group",
                                    "Bill": "47932.91760613315"
                                },
                                {
                                    "Hospital": "Jones-Johnson",
                                    "Bill": "47915.214461528565"
                                },
                                {
                                    "Hospital": "Lopez-Morales",
                                    "Bill": "47900.18864530278"
                                },
                                {
                                    "Hospital": "Smith, Smith and Taylor",
                                    "Bill": "47898.271328171206"
                                },
                                {
                                    "Hospital": "Stevens, Jones and Lang",
                                    "Bill": "47869.53814099664"
                                },
                                {
                                    "Hospital": "Fowler Group",
                                    "Bill": "47837.6734548495"
                                },
                                {
                                    "Hospital": "Fisher and Sons",
                                    "Bill": "47765.648595217164"
                                },
                                {
                                    "Hospital": "Stephenson-Hill",
                                    "Bill": "47716.54155932406"
                                },
                                {
                                    "Hospital": "Curtis-Flores",
                                    "Bill": "47700.41315513925"
                                },
                                {
                                    "Hospital": "Jones, Flores and Johnson",
                                    "Bill": "47697.669841166986"
                                },
                                {
                                    "Hospital": "Wolfe, Marsh and Parker",
                                    "Bill": "47696.27664125714"
                                },
                                {
                                    "Hospital": "Patton and Sons",
                                    "Bill": "47695.93306826968"
                                },
                                {
                                    "Hospital": "Waters PLC",
                                    "Bill": "47682.625945160245"
                                },
                                {
                                    "Hospital": "Riley-Kennedy",
                                    "Bill": "47678.16360697733"
                                },
                                {
                                    "Hospital": "Beard-Johnson",
                                    "Bill": "47674.5582439801"
                                },
                                {
                                    "Hospital": "Randolph Inc",
                                    "Bill": "47630.10051566829"
                                },
                                {
                                    "Hospital": "Miller and Sons",
                                    "Bill": "47546.916015223585"
                                },
                                {
                                    "Hospital": "Hunter, Daniels and Howard",
                                    "Bill": "47530.95681156473"
                                },
                                {
                                    "Hospital": "Martinez-Thompson",
                                    "Bill": "47519.43087997428"
                                },
                                {
                                    "Hospital": "Wood, Howard and Reed",
                                    "Bill": "47508.00017915965"
                                },
                                {
                                    "Hospital": "Hoffman LLC",
                                    "Bill": "47502.03291856158"
                                },
                                {
                                    "Hospital": "Miller Ltd",
                                    "Bill": "47452.441876165394"
                                },
                                {
                                    "Hospital": "Lopez, Solis and Richardson",
                                    "Bill": "47409.08953668171"
                                },
                                {
                                    "Hospital": "Hodges-Horne",
                                    "Bill": "47408.38777573841"
                                },
                                {
                                    "Hospital": "Hernandez, Martinez and Oneill",
                                    "Bill": "47403.274614423295"
                                },
                                {
                                    "Hospital": "Bowers, Patel and Martin",
                                    "Bill": "47374.6213192287"
                                },
                                {
                                    "Hospital": "Brown LLC",
                                    "Bill": "47369.54997726243"
                                },
                                {
                                    "Hospital": "Adams, Parker and Summers",
                                    "Bill": "47327.88276694965"
                                },
                                {
                                    "Hospital": "Rodriguez, Lowery and Williams",
                                    "Bill": "47302.27132981174"
                                },
                                {
                                    "Hospital": "Wright PLC",
                                    "Bill": "47295.55751295883"
                                },
                                {
                                    "Hospital": "Gardner, Potter and Wise",
                                    "Bill": "47271.72979486815"
                                },
                                {
                                    "Hospital": "Barnes, Martin and Clark",
                                    "Bill": "47263.46953850678"
                                },
                                {
                                    "Hospital": "Allen Ltd",
                                    "Bill": "47186.643012484645"
                                },
                                {
                                    "Hospital": "Parks Inc",
                                    "Bill": "47126.00320093231"
                                },
                                {
                                    "Hospital": "Day Inc",
                                    "Bill": "47121.865926976156"
                                },
                                {
                                    "Hospital": "Wood, Thomas and Lucas",
                                    "Bill": "47112.738033592395"
                                },
                                {
                                    "Hospital": "Graham-Landry",
                                    "Bill": "47069.83926797268"
                                },
                                {
                                    "Hospital": "Howard, Jacobs and Higgins",
                                    "Bill": "47060.392877269165"
                                },
                                {
                                    "Hospital": "Yang, Hart and Hayes",
                                    "Bill": "47032.53132076731"
                                },
                                {
                                    "Hospital": "Hawkins-Doyle",
                                    "Bill": "46990.22262081697"
                                },
                                {
                                    "Hospital": "Perkins LLC",
                                    "Bill": "46983.283342800525"
                                },
                                {
                                    "Hospital": "Reeves Group",
                                    "Bill": "46937.14038463809"
                                },
                                {
                                    "Hospital": "Alvarado and Sons",
                                    "Bill": "46930.69946037082"
                                },
                                {
                                    "Hospital": "Bradford, Ryan and Villa",
                                    "Bill": "46876.45885847635"
                                },
                                {
                                    "Hospital": "Henson-Baker",
                                    "Bill": "46831.43920374231"
                                },
                                {
                                    "Hospital": "Gutierrez-Livingston",
                                    "Bill": "46810.65399466919"
                                },
                                {
                                    "Hospital": "Petersen, Haynes and Rowe",
                                    "Bill": "46762.663205146586"
                                },
                                {
                                    "Hospital": "Lin-Moore",
                                    "Bill": "46762.16940929933"
                                },
                                {
                                    "Hospital": "Clark-Wallace",
                                    "Bill": "46762.11167563197"
                                },
                                {
                                    "Hospital": "Thomas Inc",
                                    "Bill": "46700.05126801022"
                                },
                                {
                                    "Hospital": "Choi PLC",
                                    "Bill": "46700.03560980359"
                                },
                                {
                                    "Hospital": "David, Hawkins and Smith",
                                    "Bill": "46663.76859979641"
                                },
                                {
                                    "Hospital": "Cook-Wu",
                                    "Bill": "46601.3223375237"
                                },
                                {
                                    "Hospital": "Wright-Barron",
                                    "Bill": "46542.01178268709"
                                },
                                {
                                    "Hospital": "Simpson Ltd",
                                    "Bill": "46405.609088226425"
                                },
                                {
                                    "Hospital": "Lopez PLC",
                                    "Bill": "46304.035954818726"
                                },
                                {
                                    "Hospital": "Navarro, Jensen and Hicks",
                                    "Bill": "46258.71307876149"
                                },
                                {
                                    "Hospital": "Shah, Cook and French",
                                    "Bill": "46252.887876411434"
                                },
                                {
                                    "Hospital": "Martin, Ward and Martinez",
                                    "Bill": "46251.85938662369"
                                },
                                {
                                    "Hospital": "Chen-Patterson",
                                    "Bill": "46231.732510155394"
                                },
                                {
                                    "Hospital": "Ryan, Haley and Richardson",
                                    "Bill": "46231.482307717444"
                                },
                                {
                                    "Hospital": "Ramirez-Brandt",
                                    "Bill": "46224.79873010241"
                                },
                                {
                                    "Hospital": "Cox, Alexander and Gamble",
                                    "Bill": "46178.69739013859"
                                },
                                {
                                    "Hospital": "Munoz, Sanchez and Adams",
                                    "Bill": "46161.70793060004"
                                },
                                {
                                    "Hospital": "Aguilar-Lambert",
                                    "Bill": "46133.54164833743"
                                },
                                {
                                    "Hospital": "Sanchez-Brown",
                                    "Bill": "46086.262768810186"
                                },
                                {
                                    "Hospital": "Cohen PLC",
                                    "Bill": "46048.320209731064"
                                },
                                {
                                    "Hospital": "Foster-Stevenson",
                                    "Bill": "46044.103921922084"
                                },
                                {
                                    "Hospital": "Hopkins Ltd",
                                    "Bill": "46008.804908904436"
                                },
                                {
                                    "Hospital": "Brady, Stewart and Rhodes",
                                    "Bill": "46000.95491087031"
                                },
                                {
                                    "Hospital": "Hansen-Sandoval",
                                    "Bill": "45920.883919530475"
                                },
                                {
                                    "Hospital": "Wilson, Holt and Watson",
                                    "Bill": "45892.14449481834"
                                },
                                {
                                    "Hospital": "Ingram Inc",
                                    "Bill": "45853.988019674616"
                                },
                                {
                                    "Hospital": "Durham PLC",
                                    "Bill": "45806.61074539374"
                                },
                                {
                                    "Hospital": "Patrick, Hall and Warner",
                                    "Bill": "45798.939705824836"
                                },
                                {
                                    "Hospital": "Edwards-Porter",
                                    "Bill": "45730.30140913316"
                                },
                                {
                                    "Hospital": "Williams-Hale",
                                    "Bill": "45729.371667894404"
                                },
                                {
                                    "Hospital": "Munoz and Sons",
                                    "Bill": "45721.04351555346"
                                },
                                {
                                    "Hospital": "Jenkins Ltd",
                                    "Bill": "45716.32803350753"
                                },
                                {
                                    "Hospital": "Hines Inc",
                                    "Bill": "45705.004885474395"
                                },
                                {
                                    "Hospital": "Gray, Underwood and Rowe",
                                    "Bill": "45704.80291242897"
                                },
                                {
                                    "Hospital": "Snyder-Gross",
                                    "Bill": "45649.76302093756"
                                },
                                {
                                    "Hospital": "Wells LLC",
                                    "Bill": "45620.66848026368"
                                },
                                {
                                    "Hospital": "Herman Group",
                                    "Bill": "45617.60148270567"
                                },
                                {
                                    "Hospital": "Tucker Group",
                                    "Bill": "45600.41159706999"
                                },
                                {
                                    "Hospital": "Adams Inc",
                                    "Bill": "45591.89590686971"
                                },
                                {
                                    "Hospital": "Green PLC",
                                    "Bill": "45556.40566105657"
                                },
                                {
                                    "Hospital": "Turner-Cook",
                                    "Bill": "45555.50174333505"
                                },
                                {
                                    "Hospital": "Green Group",
                                    "Bill": "45552.59617365875"
                                },
                                {
                                    "Hospital": "Gould, Hayes and Lane",
                                    "Bill": "45528.0743677317"
                                },
                                {
                                    "Hospital": "Mendoza Inc",
                                    "Bill": "45501.135081265245"
                                },
                                {
                                    "Hospital": "Ortiz, Navarro and Gates",
                                    "Bill": "45467.23942769469"
                                },
                                {
                                    "Hospital": "Reyes Inc",
                                    "Bill": "45444.29373533064"
                                },
                                {
                                    "Hospital": "Harris, Smith and Patterson",
                                    "Bill": "45440.45113479933"
                                },
                                {
                                    "Hospital": "Cline, Murphy and Stevens",
                                    "Bill": "45434.40973278368"
                                },
                                {
                                    "Hospital": "Lee LLC",
                                    "Bill": "45405.45615036273"
                                },
                                {
                                    "Hospital": "Brown PLC",
                                    "Bill": "45402.997497176286"
                                },
                                {
                                    "Hospital": "Bennett Group",
                                    "Bill": "45391.450019714095"
                                },
                                {
                                    "Hospital": "Jefferson, Gardner and Schwartz",
                                    "Bill": "45362.20148536764"
                                },
                                {
                                    "Hospital": "Lopez, Carson and Mueller",
                                    "Bill": "45319.94992170451"
                                },
                                {
                                    "Hospital": "Steele-Lewis",
                                    "Bill": "45312.51788790039"
                                },
                                {
                                    "Hospital": "Banks, Dominguez and Ryan",
                                    "Bill": "45282.578642005086"
                                },
                                {
                                    "Hospital": "Moore, Campbell and Weaver",
                                    "Bill": "45281.985279707456"
                                },
                                {
                                    "Hospital": "Sanchez, Webb and Jones",
                                    "Bill": "45275.82145895949"
                                },
                                {
                                    "Hospital": "Henderson LLC",
                                    "Bill": "45268.70600762127"
                                },
                                {
                                    "Hospital": "Romero, Gonzalez and Murillo",
                                    "Bill": "45240.42667200669"
                                },
                                {
                                    "Hospital": "Smith, Lopez and Taylor",
                                    "Bill": "45218.39685568974"
                                },
                                {
                                    "Hospital": "Myers LLC",
                                    "Bill": "45214.53837734277"
                                },
                                {
                                    "Hospital": "Mitchell, Hunter and Pittman",
                                    "Bill": "45173.323238191435"
                                },
                                {
                                    "Hospital": "Wallace, Osborn and Johnson",
                                    "Bill": "45172.92417242992"
                                },
                                {
                                    "Hospital": "Foster, Conner and Nolan",
                                    "Bill": "45148.610409885136"
                                },
                                {
                                    "Hospital": "Richardson Ltd",
                                    "Bill": "45141.18176872801"
                                },
                                {
                                    "Hospital": "Lee-Young",
                                    "Bill": "45128.96454828569"
                                },
                                {
                                    "Hospital": "Hamilton PLC",
                                    "Bill": "45125.53092988562"
                                },
                                {
                                    "Hospital": "Obrien LLC",
                                    "Bill": "45123.65092597917"
                                },
                                {
                                    "Hospital": "Sanchez-Hines",
                                    "Bill": "45081.410725158734"
                                },
                                {
                                    "Hospital": "Tran LLC",
                                    "Bill": "45038.43045134747"
                                }
                            ]
                        },
                        "text/html": "<table><tr><th>Hospital</th><th>Bill</th></tr><tr><td>Ellison-Johnson</td><td>49994.98474012479</td></tr><tr><td>Ford, Gibson and Parker</td><td>49957.99759953944</td></tr><tr><td>Jackson Group</td><td>49867.725384729696</td></tr><tr><td>Andrews-Brown</td><td>49865.84795118959</td></tr><tr><td>Faulkner, Munoz and Friedman</td><td>49848.9617670132</td></tr><tr><td>Fry-Morrow</td><td>49810.97484127671</td></tr><tr><td>Austin-Black</td><td>49793.61481604037</td></tr><tr><td>Christensen-Williams</td><td>49746.207799581374</td></tr><tr><td>Gallegos and Sons</td><td>49677.361740915374</td></tr><tr><td>Montgomery and Sons</td><td>49675.48297875196</td></tr><tr><td>Kramer, Harrison and Wallace</td><td>49667.36702889071</td></tr><tr><td>Ayala-Gibbs</td><td>49608.86185798793</td></tr><tr><td>Liu-Hunt</td><td>49565.02133019294</td></tr><tr><td>Johnston-Lee</td><td>49554.98005095694</td></tr><tr><td>Wiley-Schwartz</td><td>49541.88121075537</td></tr><tr><td>Watts-Hunt</td><td>49541.26218720334</td></tr><tr><td>Hall LLC</td><td>49505.17942694056</td></tr><tr><td>Snow Group</td><td>49487.502458254734</td></tr><tr><td>Lang-Patel</td><td>49424.27606338589</td></tr><tr><td>Henry, Haas and Cook</td><td>49422.381646954076</td></tr><tr><td>Taylor, Johnson and Vaughan</td><td>49405.83723633517</td></tr><tr><td>Gonzales-Chaney</td><td>49387.20965576066</td></tr><tr><td>Knight, Mitchell and Perez</td><td>49354.88765759358</td></tr><tr><td>Bowman PLC</td><td>49347.616196905896</td></tr><tr><td>Fitzpatrick-Powell</td><td>49346.304295525275</td></tr><tr><td>Rhodes Group</td><td>49332.83843060683</td></tr><tr><td>Hensley Inc</td><td>49283.835528546144</td></tr><tr><td>Monroe, Allen and Welch</td><td>49243.31736311424</td></tr><tr><td>Robles-Thompson</td><td>49223.7153460014</td></tr><tr><td>Davidson, Harris and Long</td><td>49208.375751772895</td></tr><tr><td>Burke, Hammond and Henderson</td><td>49191.40004277582</td></tr><tr><td>Russell Inc</td><td>49180.3840908525</td></tr><tr><td>Peterson, Jones and Clark</td><td>49155.40764559618</td></tr><tr><td>Rodriguez-Jordan</td><td>49114.82027460238</td></tr><tr><td>Gutierrez, Hudson and Hernandez</td><td>49100.458363573794</td></tr><tr><td>Thomas Group</td><td>49053.356073379015</td></tr><tr><td>Smith-Shelton</td><td>49028.35142291023</td></tr><tr><td>Contreras-Taylor</td><td>49014.336975744256</td></tr><tr><td>Romero, Sloan and Rodriguez</td><td>49006.69594076405</td></tr><tr><td>Bryant Group</td><td>48754.92114615348</td></tr><tr><td>Hatfield-Wilson</td><td>48724.403799461856</td></tr><tr><td>Mayo, Yoder and Fisher</td><td>48710.62955931463</td></tr><tr><td>Cochran-King</td><td>48662.636196953674</td></tr><tr><td>Wilson, Pugh and Johnson</td><td>48619.51732595202</td></tr><tr><td>Bailey-Powers</td><td>48599.59229382341</td></tr><tr><td>Ruiz, Baker and Vargas</td><td>48554.759675624235</td></tr><tr><td>Riggs and Sons</td><td>48530.124205145345</td></tr><tr><td>Gonzalez and Sons</td><td>48521.18885872096</td></tr><tr><td>Anderson, Moore and Miller</td><td>48466.94634194745</td></tr><tr><td>Reilly Ltd</td><td>48466.61597695912</td></tr><tr><td>Brooks-Cline</td><td>48441.32562710593</td></tr><tr><td>Butler Ltd</td><td>48386.39238101044</td></tr><tr><td>Macias, Long and Hodge</td><td>48363.46949168556</td></tr><tr><td>Graham Ltd</td><td>48335.96428065138</td></tr><tr><td>Sandoval PLC</td><td>48301.590278803895</td></tr><tr><td>Wallace LLC</td><td>48296.69098795672</td></tr><tr><td>Waters-Good</td><td>48259.75280582012</td></tr><tr><td>Chambers Inc</td><td>48244.6217501954</td></tr><tr><td>Gordon-Frederick</td><td>48207.547066038474</td></tr><tr><td>Robertson-Smith</td><td>48155.10651485851</td></tr><tr><td>Nunez, Burton and Mccullough</td><td>48112.9633141049</td></tr><tr><td>Martinez, Lynn and White</td><td>48056.68034120919</td></tr><tr><td>Kane-Moore</td><td>48030.108538739965</td></tr><tr><td>Morales-Williams</td><td>48027.55601450049</td></tr><tr><td>Welch, Sanders and Jensen</td><td>48006.407283263165</td></tr><tr><td>Bradley Inc</td><td>47986.36698510451</td></tr><tr><td>Rogers PLC</td><td>47947.42754337616</td></tr><tr><td>Callahan Group</td><td>47932.91760613315</td></tr><tr><td>Jones-Johnson</td><td>47915.214461528565</td></tr><tr><td>Lopez-Morales</td><td>47900.18864530278</td></tr><tr><td>Smith, Smith and Taylor</td><td>47898.271328171206</td></tr><tr><td>Stevens, Jones and Lang</td><td>47869.53814099664</td></tr><tr><td>Fowler Group</td><td>47837.6734548495</td></tr><tr><td>Fisher and Sons</td><td>47765.648595217164</td></tr><tr><td>Stephenson-Hill</td><td>47716.54155932406</td></tr><tr><td>Curtis-Flores</td><td>47700.41315513925</td></tr><tr><td>Jones, Flores and Johnson</td><td>47697.669841166986</td></tr><tr><td>Wolfe, Marsh and Parker</td><td>47696.27664125714</td></tr><tr><td>Patton and Sons</td><td>47695.93306826968</td></tr><tr><td>Waters PLC</td><td>47682.625945160245</td></tr><tr><td>Riley-Kennedy</td><td>47678.16360697733</td></tr><tr><td>Beard-Johnson</td><td>47674.5582439801</td></tr><tr><td>Randolph Inc</td><td>47630.10051566829</td></tr><tr><td>Miller and Sons</td><td>47546.916015223585</td></tr><tr><td>Hunter, Daniels and Howard</td><td>47530.95681156473</td></tr><tr><td>Martinez-Thompson</td><td>47519.43087997428</td></tr><tr><td>Wood, Howard and Reed</td><td>47508.00017915965</td></tr><tr><td>Hoffman LLC</td><td>47502.03291856158</td></tr><tr><td>Miller Ltd</td><td>47452.441876165394</td></tr><tr><td>Lopez, Solis and Richardson</td><td>47409.08953668171</td></tr><tr><td>Hodges-Horne</td><td>47408.38777573841</td></tr><tr><td>Hernandez, Martinez and Oneill</td><td>47403.274614423295</td></tr><tr><td>Bowers, Patel and Martin</td><td>47374.6213192287</td></tr><tr><td>Brown LLC</td><td>47369.54997726243</td></tr><tr><td>Adams, Parker and Summers</td><td>47327.88276694965</td></tr><tr><td>Rodriguez, Lowery and Williams</td><td>47302.27132981174</td></tr><tr><td>Wright PLC</td><td>47295.55751295883</td></tr><tr><td>Gardner, Potter and Wise</td><td>47271.72979486815</td></tr><tr><td>Barnes, Martin and Clark</td><td>47263.46953850678</td></tr><tr><td>Allen Ltd</td><td>47186.643012484645</td></tr><tr><td>Parks Inc</td><td>47126.00320093231</td></tr><tr><td>Day Inc</td><td>47121.865926976156</td></tr><tr><td>Wood, Thomas and Lucas</td><td>47112.738033592395</td></tr><tr><td>Graham-Landry</td><td>47069.83926797268</td></tr><tr><td>Howard, Jacobs and Higgins</td><td>47060.392877269165</td></tr><tr><td>Yang, Hart and Hayes</td><td>47032.53132076731</td></tr><tr><td>Hawkins-Doyle</td><td>46990.22262081697</td></tr><tr><td>Perkins LLC</td><td>46983.283342800525</td></tr><tr><td>Reeves Group</td><td>46937.14038463809</td></tr><tr><td>Alvarado and Sons</td><td>46930.69946037082</td></tr><tr><td>Bradford, Ryan and Villa</td><td>46876.45885847635</td></tr><tr><td>Henson-Baker</td><td>46831.43920374231</td></tr><tr><td>Gutierrez-Livingston</td><td>46810.65399466919</td></tr><tr><td>Petersen, Haynes and Rowe</td><td>46762.663205146586</td></tr><tr><td>Lin-Moore</td><td>46762.16940929933</td></tr><tr><td>Clark-Wallace</td><td>46762.11167563197</td></tr><tr><td>Thomas Inc</td><td>46700.05126801022</td></tr><tr><td>Choi PLC</td><td>46700.03560980359</td></tr><tr><td>David, Hawkins and Smith</td><td>46663.76859979641</td></tr><tr><td>Cook-Wu</td><td>46601.3223375237</td></tr><tr><td>Wright-Barron</td><td>46542.01178268709</td></tr><tr><td>Simpson Ltd</td><td>46405.609088226425</td></tr><tr><td>Lopez PLC</td><td>46304.035954818726</td></tr><tr><td>Navarro, Jensen and Hicks</td><td>46258.71307876149</td></tr><tr><td>Shah, Cook and French</td><td>46252.887876411434</td></tr><tr><td>Martin, Ward and Martinez</td><td>46251.85938662369</td></tr><tr><td>Chen-Patterson</td><td>46231.732510155394</td></tr><tr><td>Ryan, Haley and Richardson</td><td>46231.482307717444</td></tr><tr><td>Ramirez-Brandt</td><td>46224.79873010241</td></tr><tr><td>Cox, Alexander and Gamble</td><td>46178.69739013859</td></tr><tr><td>Munoz, Sanchez and Adams</td><td>46161.70793060004</td></tr><tr><td>Aguilar-Lambert</td><td>46133.54164833743</td></tr><tr><td>Sanchez-Brown</td><td>46086.262768810186</td></tr><tr><td>Cohen PLC</td><td>46048.320209731064</td></tr><tr><td>Foster-Stevenson</td><td>46044.103921922084</td></tr><tr><td>Hopkins Ltd</td><td>46008.804908904436</td></tr><tr><td>Brady, Stewart and Rhodes</td><td>46000.95491087031</td></tr><tr><td>Hansen-Sandoval</td><td>45920.883919530475</td></tr><tr><td>Wilson, Holt and Watson</td><td>45892.14449481834</td></tr><tr><td>Ingram Inc</td><td>45853.988019674616</td></tr><tr><td>Durham PLC</td><td>45806.61074539374</td></tr><tr><td>Patrick, Hall and Warner</td><td>45798.939705824836</td></tr><tr><td>Edwards-Porter</td><td>45730.30140913316</td></tr><tr><td>Williams-Hale</td><td>45729.371667894404</td></tr><tr><td>Munoz and Sons</td><td>45721.04351555346</td></tr><tr><td>Jenkins Ltd</td><td>45716.32803350753</td></tr><tr><td>Hines Inc</td><td>45705.004885474395</td></tr><tr><td>Gray, Underwood and Rowe</td><td>45704.80291242897</td></tr><tr><td>Snyder-Gross</td><td>45649.76302093756</td></tr><tr><td>Wells LLC</td><td>45620.66848026368</td></tr><tr><td>Herman Group</td><td>45617.60148270567</td></tr><tr><td>Tucker Group</td><td>45600.41159706999</td></tr><tr><td>Adams Inc</td><td>45591.89590686971</td></tr><tr><td>Green PLC</td><td>45556.40566105657</td></tr><tr><td>Turner-Cook</td><td>45555.50174333505</td></tr><tr><td>Green Group</td><td>45552.59617365875</td></tr><tr><td>Gould, Hayes and Lane</td><td>45528.0743677317</td></tr><tr><td>Mendoza Inc</td><td>45501.135081265245</td></tr><tr><td>Ortiz, Navarro and Gates</td><td>45467.23942769469</td></tr><tr><td>Reyes Inc</td><td>45444.29373533064</td></tr><tr><td>Harris, Smith and Patterson</td><td>45440.45113479933</td></tr><tr><td>Cline, Murphy and Stevens</td><td>45434.40973278368</td></tr><tr><td>Lee LLC</td><td>45405.45615036273</td></tr><tr><td>Brown PLC</td><td>45402.997497176286</td></tr><tr><td>Bennett Group</td><td>45391.450019714095</td></tr><tr><td>Jefferson, Gardner and Schwartz</td><td>45362.20148536764</td></tr><tr><td>Lopez, Carson and Mueller</td><td>45319.94992170451</td></tr><tr><td>Steele-Lewis</td><td>45312.51788790039</td></tr><tr><td>Banks, Dominguez and Ryan</td><td>45282.578642005086</td></tr><tr><td>Moore, Campbell and Weaver</td><td>45281.985279707456</td></tr><tr><td>Sanchez, Webb and Jones</td><td>45275.82145895949</td></tr><tr><td>Henderson LLC</td><td>45268.70600762127</td></tr><tr><td>Romero, Gonzalez and Murillo</td><td>45240.42667200669</td></tr><tr><td>Smith, Lopez and Taylor</td><td>45218.39685568974</td></tr><tr><td>Myers LLC</td><td>45214.53837734277</td></tr><tr><td>Mitchell, Hunter and Pittman</td><td>45173.323238191435</td></tr><tr><td>Wallace, Osborn and Johnson</td><td>45172.92417242992</td></tr><tr><td>Foster, Conner and Nolan</td><td>45148.610409885136</td></tr><tr><td>Richardson Ltd</td><td>45141.18176872801</td></tr><tr><td>Lee-Young</td><td>45128.96454828569</td></tr><tr><td>Hamilton PLC</td><td>45125.53092988562</td></tr><tr><td>Obrien LLC</td><td>45123.65092597917</td></tr><tr><td>Sanchez-Hines</td><td>45081.410725158734</td></tr><tr><td>Tran LLC</td><td>45038.43045134747</td></tr></table>"
                    },
                    "metadata": {
                        "azdata_chartOptions": {
                            "type": "line",
                            "dataDirection": "vertical",
                            "columnsAsLabels": true,
                            "labelFirstColumn": true,
                            "legendPosition": "top",
                            "dataType": "number"
                        }
                    }
                }
            ],
            "execution_count": 66
        },
        {
            "cell_type": "markdown",
            "source": [
                "# **Billing Amounts over $45,000 per hospital for patients.**"
            ],
            "metadata": {
                "language": "sql",
                "azdata_cell_guid": "f2ac6536-bae0-4917-9dff-3c0893cd57ee"
            },
            "attachments": {}
        }
    ]
}